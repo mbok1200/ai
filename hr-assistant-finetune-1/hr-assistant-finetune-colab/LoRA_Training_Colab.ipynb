{
 "cells": [
  {
   "cell_type": "markdown",
   "metadata": {},
   "source": [
    "# LoRA Model Training in Google Colab\n",
    "\n",
    "This notebook is designed to train a LoRA model using the provided dataset and the training script from `train_lora.py`. Follow the steps below to set up the environment and execute the training process."
   ]
  },
  {
   "cell_type": "code",
   "execution_count": null,
   "metadata": {
    "colab_type": "code",
    "id": "setup_environment",
    "outputId": "setup_environment_output"
   },
   "outputs": [],
   "source": [
    "# Install necessary libraries\n",
    "!pip install torch transformers datasets peft\n"
   ]
  },
  {
   "cell_type": "code",
   "execution_count": null,
   "metadata": {
    "colab_type": "code",
    "id": "load_data",
    "outputId": "load_data_output"
   },
   "outputs": [],
   "source": [
    "# Load the dataset\n",
    "from datasets import load_dataset\n",
    "\n",
    "dataset = load_dataset('json', data_files='data/merged_min.jsonl', split='train')\n",
    "print(f'Dataset loaded with {len(dataset)} examples.')"
   ]
  },
  {
   "cell_type": "code",
   "execution_count": null,
   "metadata": {
    "colab_type": "code",
    "id": "train_model",
    "outputId": "train_model_output"
   },
   "outputs": [],
   "source": [
    "# Import necessary libraries\n",
    "import torch\n",
    "from transformers import AutoTokenizer, AutoModelForCausalLM, TrainingArguments, Trainer, DataCollatorForLanguageModeling\n",
    "from peft import get_peft_model, LoraConfig, TaskType\n",
    "\n",
    "# Define model name\n",
    "model_name = 'mistralai/Mistral-7B-v0.1'\n",
    "device = torch.device('cuda' if torch.cuda.is_available() else 'cpu')\n",
    "\n",
    "# Load tokenizer and model\n",
    "tokenizer = AutoTokenizer.from_pretrained(model_name, use_fast=True)\n",
    "model = AutoModelForCausalLM.from_pretrained(model_name, low_cpu_mem_usage=False).to(device)\n",
    "\n",
    "# LoRA configuration\n",
    "peft_config = LoraConfig(\n",
    "    r=8,\n",
    "    lora_alpha=16,\n",
    "    target_modules=['q_proj', 'v_proj'],\n",
    "    lora_dropout=0.05,\n",
    "    bias='none',\n",
    "    task_type=TaskType.CAUSAL_LM\n",
    ")\n",
    "model = get_peft_model(model, peft_config)\n",
    "\n",
    "# Preprocessing function\n",
    "def format_example(example):\n",
    "    source = example['metadata']['source'] if 'metadata' in example and 'source' in example['metadata'] else ''\n",
    "    output = example['output']\n",
    "    if source and output:\n",
    "        output = f'{output}\\n\\nДетальніше: {source}'\n",
    "    text = f'### Інструкція:\\n{example['instruction']}\\n\\n### Вхід:\\n{example['input']}\\n\\n### Вихід:\\n{output}'\n",
    "    return {'input_ids': tokenizer(text, truncation=True, max_length=512, padding='max_length')['input_ids']}\n",
    "\n",
    "# Tokenize the dataset\n",
    "tokenized_dataset = dataset.map(format_example)\n",
    "\n",
    "# Training arguments\n",
    "training_args = TrainingArguments(\n",
    "    output_dir='./lora_model',\n",
    "    per_device_train_batch_size=4,\n",
    "    gradient_accumulation_steps=4,\n",
    "    learning_rate=2e-4,\n",
    "    num_train_epochs=3,\n",
    "    logging_dir='./logs',\n",
    "    logging_steps=10,\n",
    "    save_steps=500,\n",
    "    bf16=True,\n",
    "    optim='adamw_torch'\n",
    ")\n",
    "\n",
    "# Trainer\n",
    "trainer = Trainer(\n",
    "    model=model,\n",
    "    args=training_args,\n",
    "    train_dataset=tokenized_dataset,\n",
    "    data_collator=DataCollatorForLanguageModeling(tokenizer=tokenizer, mlm=False)\n",
    ")\n",
    "\n",
    "# Start training\n",
    "trainer.train()"
   ]
  }
 ],
 "metadata": {
  "kernelspec": {
   "display_name": "Python 3",
   "language": "python",
   "name": "python3"
  },
  "language_info": {
   "codemirror_mode": {
    "name": "ipython",
    "version": 3
   },
   "file_extension": ".py",
   "mimetype": "text/x-python",
   "name": "python",
   "nbconvert_exporter": "python",
   "pygments_lexer": "ipython3",
   "version": "3.7.12"
  }
 },
 "nbformat": 4,
 "nbformat_minor": 4
}